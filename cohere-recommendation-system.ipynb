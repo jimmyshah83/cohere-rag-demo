{
 "cells": [
  {
   "cell_type": "code",
   "execution_count": 1,
   "metadata": {},
   "outputs": [
    {
     "name": "stdout",
     "output_type": "stream",
     "text": [
      "Note: you may need to restart the kernel to use updated packages.\n"
     ]
    }
   ],
   "source": [
    "%pip install -r requirements.txt --quiet"
   ]
  },
  {
   "cell_type": "code",
   "execution_count": null,
   "metadata": {},
   "outputs": [],
   "source": [
    "import cohere\n",
    "from typing import List\n",
    "import numpy as np\n",
    "import json"
   ]
  },
  {
   "cell_type": "code",
   "execution_count": null,
   "metadata": {},
   "outputs": [],
   "source": [
    "def generate_search_queries(message: str) -> List[str]:\n",
    "    \n",
    "    # Define the query generation tool\n",
    "    query_gen_tool = [\n",
    "        {\n",
    "            \"type\": \"function\",\n",
    "            \"function\": {\n",
    "                \"name\": \"internet_search\",\n",
    "                \"description\": \"Returns a list of relevant document snippets for a textual query retrieved from the internet\",\n",
    "                \"parameters\": {\n",
    "                    \"type\": \"object\",\n",
    "                    \"properties\": {\n",
    "                        \"queries\": {\n",
    "                            \"type\": \"array\",\n",
    "                            \"items\": {\"type\": \"string\"},\n",
    "                            \"description\": \"a list of queries to search the internet with.\",\n",
    "                        }\n",
    "                    },\n",
    "                    \"required\": [\"queries\"],\n",
    "                },\n",
    "            },\n",
    "        }\n",
    "    ]\n",
    "\n",
    "\n",
    "    # Define a preamble to optimize search query generation\n",
    "    instructions = \"Write a search query that will find helpful information for answering the user's question accurately. If you need more than one search query, write a list of search queries. If you decide that a search is very unlikely to find information that would be useful in constructing a response to the user, you should instead directly answer.\"\n",
    "\n",
    "    # Generate search queries (if any)\n",
    "    search_queries = []\n",
    "    \n",
    "    res = co.chat(\n",
    "        model=\"command-r-08-2024\",\n",
    "        messages=[\n",
    "            {\"role\": \"system\", \"content\": instructions},\n",
    "            {\"role\": \"user\", \"content\": message},\n",
    "        ],\n",
    "        tools=query_gen_tool\n",
    "    )\n",
    "    \n",
    "    if res.message.tool_calls:\n",
    "        for tc in res.message.tool_calls:\n",
    "            queries = json.loads(tc.function.arguments)[\"queries\"]\n",
    "            search_queries.extend(queries)\n",
    "\n",
    "    return search_queries\n"
   ]
  },
  {
   "cell_type": "code",
   "execution_count": null,
   "metadata": {},
   "outputs": [],
   "source": [
    "query = \"Suggest some products to Jane Doe based on their purchase history\"\n",
    "queries_for_search = generate_search_queries(query)\n",
    "print(queries_for_search)"
   ]
  },
  {
   "cell_type": "code",
   "execution_count": null,
   "metadata": {},
   "outputs": [],
   "source": [
    "#### Embed search Query\n",
    "\n",
    "# Add the user query\n",
    "query = \"Suggest some products to Jane Doe based on their purchase history\"\n",
    "\n",
    "# Generate the search query\n",
    "# Note: For simplicity, we are assuming only one query generated. For actual implementations, you will need to perform search for each query.\n",
    "queries_for_search = generate_search_queries(query)[0]\n",
    "print(\"Search query: \", queries_for_search)\n",
    "\n",
    "# Embed the search query\n",
    "query_emb = co.embed(\n",
    "    model=\"embed-english-v3.0\",\n",
    "    input_type=\"search_query\",\n",
    "    texts=[queries_for_search],\n",
    "    embedding_types=[\"float\"]).embeddings.float\n"
   ]
  },
  {
   "cell_type": "code",
   "execution_count": null,
   "metadata": {},
   "outputs": [],
   "source": [
    "### Search for most relavant documents\n",
    "\n",
    "# Compute dot product similarity and display results\n",
    "n = 5\n",
    "scores = np.dot(query_emb, np.transpose(embeddings))[0]\n",
    "max_idx = np.argsort(-scores)[:n]\n",
    "\n",
    "retrieved_documents = [document_texts[item] for item in max_idx]\n",
    "\n",
    "for rank, idx in enumerate(max_idx):\n",
    "    print(f\"Rank: {rank+1}\")\n",
    "    print(f\"Score: {scores[idx]}\")\n",
    "    print(f\"Document: {retrieved_documents[rank]}\\n\")\n"
   ]
  },
  {
   "cell_type": "code",
   "execution_count": null,
   "metadata": {},
   "outputs": [],
   "source": [
    "# Rerank the documents\n",
    "retrieved_documents_str = [str(doc) for doc in retrieved_documents]\n",
    "\n",
    "results = co.rerank(query=queries_for_search,\n",
    "                    documents=retrieved_documents_str,\n",
    "                    top_n=2,\n",
    "                    model='rerank-english-v3.0')\n",
    "\n",
    "# Display the reranking results\n",
    "for idx, result in enumerate(results.results):\n",
    "    print(f\"Rank: {idx+1}\") \n",
    "    print(f\"Score: {result.relevance_score}\")\n",
    "    print(f\"Document: {retrieved_documents[result.index]}\\n\")\n",
    "    \n",
    "reranked_documents = [retrieved_documents_str[result.index] for result in results.results]\n"
   ]
  },
  {
   "cell_type": "code",
   "execution_count": null,
   "metadata": {},
   "outputs": [],
   "source": [
    "# Generate the response\n",
    "response = co.chat(model=\"command-r-plus-08-2024\",\n",
    "                   messages=[{'role': 'user', 'content': query}],\n",
    "                   documents=reranked_documents)\n",
    "\n",
    "# Display the response\n",
    "print(response.message.content[0].text)\n",
    "\n",
    "# Display the citations and source documents\n",
    "if response.message.citations:\n",
    "    print(\"\\nCITATIONS:\")\n",
    "    for citation in response.message.citations:\n",
    "        print(citation, \"\\n\")\n"
   ]
  }
 ],
 "metadata": {
  "language_info": {
   "name": "python"
  }
 },
 "nbformat": 4,
 "nbformat_minor": 2
}
