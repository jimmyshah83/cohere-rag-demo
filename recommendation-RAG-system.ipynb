{
 "cells": [
  {
   "cell_type": "markdown",
   "metadata": {},
   "source": [
    "#### Setup"
   ]
  },
  {
   "cell_type": "code",
   "execution_count": 1,
   "metadata": {},
   "outputs": [
    {
     "name": "stdout",
     "output_type": "stream",
     "text": [
      "Note: you may need to restart the kernel to use updated packages.\n"
     ]
    }
   ],
   "source": [
    "%pip install -r requirements.txt --quiet"
   ]
  },
  {
   "cell_type": "code",
   "execution_count": 2,
   "metadata": {},
   "outputs": [],
   "source": [
    "from dotenv import load_dotenv\n",
    "from azure.identity import DefaultAzureCredential\n",
    "from azure.core.credentials import AzureKeyCredential\n",
    "import os\n",
    "\n",
    "# take environment variables from .env.\n",
    "load_dotenv(override=True) \n",
    "\n",
    "search_service_endpoint = os.environ[\"AZURE_SEARCH_SERVICE_ENDPOINT\"]\n",
    "credential = AzureKeyCredential(os.getenv(\"AZURE_AI_SEARCH_API_KEY\", \"\")) if len(os.getenv(\"AZURE_AI_SEARCH_API_KEY\", \"\")) > 0 else DefaultAzureCredential()\n",
    "index_name = os.getenv(\"AZURE_SEARCH_INDEX\", \"recommendationidx\")"
   ]
  },
  {
   "cell_type": "markdown",
   "metadata": {},
   "source": [
    "#### Embed data using Cohere embed V3 without Vector DB\n",
    "- Use embed-english-v3.0 model to embed the data with 1024 Dimentions and 512 Context window size"
   ]
  },
  {
   "cell_type": "code",
   "execution_count": 3,
   "metadata": {},
   "outputs": [],
   "source": [
    "import cohere\n",
    "\n",
    "# Initialize Cohere client\n",
    "co = cohere.ClientV2()"
   ]
  },
  {
   "cell_type": "code",
   "execution_count": 4,
   "metadata": {},
   "outputs": [
    {
     "name": "stdout",
     "output_type": "stream",
     "text": [
      "Loaded 704 documents\n"
     ]
    }
   ],
   "source": [
    "# Chunk and load documents into AI search\n",
    "\n",
    "from langchain.document_loaders import DirectoryLoader\n",
    "from langchain.document_loaders import TextLoader\n",
    "from langchain_text_splitters import RecursiveCharacterTextSplitter\n",
    "\n",
    "loader = DirectoryLoader('data/', glob=\"*.md\", loader_cls=TextLoader, loader_kwargs={'autodetect_encoding': True})\n",
    "docs = loader.load()\n",
    "documents = RecursiveCharacterTextSplitter(chunk_size=500, chunk_overlap=50).split_documents(docs)\n",
    "print(f\"Loaded {len(documents)} documents\")"
   ]
  },
  {
   "cell_type": "code",
   "execution_count": 5,
   "metadata": {},
   "outputs": [],
   "source": [
    "# Extract page_content from each Document object\n",
    "document_texts = [doc.page_content for doc in documents]"
   ]
  },
  {
   "cell_type": "code",
   "execution_count": 7,
   "metadata": {},
   "outputs": [],
   "source": [
    "def generate_embeddings(texts, input_type=\"search_document\"):\n",
    "    model = \"embed-english-v3.0\"\n",
    "    # Ensure texts is a list\n",
    "    if isinstance(texts, str):\n",
    "        texts = [texts]\n",
    "\n",
    "    response = co.embed(\n",
    "        texts=texts,\n",
    "        model=model,\n",
    "        input_type=input_type,\n",
    "        embedding_types=[\"int8\"],\n",
    "    )\n",
    "    return [embedding for embedding in response.embeddings.int8]\n"
   ]
  },
  {
   "cell_type": "code",
   "execution_count": 8,
   "metadata": {},
   "outputs": [
    {
     "name": "stdout",
     "output_type": "stream",
     "text": [
      "704 Document embeddings generated\n"
     ]
    }
   ],
   "source": [
    "import time\n",
    "\n",
    "# Limit to 80 calls per minute as Free Embed API has a limitation of 100 calls per min\n",
    "batch_size = 80\n",
    "embeddings = []\n",
    "for i in range(0, len(document_texts), batch_size):\n",
    "    batch = document_texts[i:i + batch_size]\n",
    "    embeddings.extend(generate_embeddings(batch))\n",
    "    if i + batch_size < len(document_texts):\n",
    "        time.sleep(60)  # Sleep for 60 seconds to respect the rate limit\n",
    "\n",
    "print (len(embeddings), \"Document embeddings generated\")"
   ]
  },
  {
   "cell_type": "markdown",
   "metadata": {},
   "source": [
    "#### RAG with Cohere client and Cohere Command R+ with Citations\n",
    "\n",
    "In a basic RAG application, the steps involved are:\n",
    "- Transforming the user message into search queries\n",
    "- Retrieving relevant documents for a given search query\n",
    "- Generating the response and citations\n"
   ]
  },
  {
   "cell_type": "code",
   "execution_count": 9,
   "metadata": {},
   "outputs": [],
   "source": [
    "from typing import List\n",
    "import numpy as np\n",
    "import json\n",
    "\n",
    "def generate_search_queries(message: str) -> List[str]:\n",
    "    \n",
    "    # Define the query generation tool\n",
    "    query_gen_tool = [\n",
    "        {\n",
    "            \"type\": \"function\",\n",
    "            \"function\": {\n",
    "                \"name\": \"internet_search\",\n",
    "                \"description\": \"Returns a list of relevant document snippets for a textual query retrieved from the internet\",\n",
    "                \"parameters\": {\n",
    "                    \"type\": \"object\",\n",
    "                    \"properties\": {\n",
    "                        \"queries\": {\n",
    "                            \"type\": \"array\",\n",
    "                            \"items\": {\"type\": \"string\"},\n",
    "                            \"description\": \"a list of queries to search the internet with.\",\n",
    "                        }\n",
    "                    },\n",
    "                    \"required\": [\"queries\"],\n",
    "                },\n",
    "            },\n",
    "        }\n",
    "    ]\n",
    "\n",
    "\n",
    "    # Define a preamble to optimize search query generation\n",
    "    system_message = \"Write a search query that will find helpful information for answering the user's question accurately. If you need more than one search query, write a list of search queries. If you decide that a search is very unlikely to find information that would be useful in constructing a response to the user, you should instead directly answer.\"\n",
    "\n",
    "    # Generate search queries (if any)\n",
    "    search_queries = []\n",
    "    \n",
    "    res = co.chat(\n",
    "        # model=\"command-r-08-2024\",\n",
    "        model=\"command-r-plus-08-2024\",\n",
    "        messages=[\n",
    "            {\"role\": \"system\", \"content\": system_message},\n",
    "            {\"role\": \"user\", \"content\": message},\n",
    "        ],\n",
    "        tools=query_gen_tool\n",
    "    )\n",
    "    \n",
    "    if res.message.tool_calls:\n",
    "        for tc in res.message.tool_calls:\n",
    "            queries = json.loads(tc.function.arguments)[\"queries\"]\n",
    "            search_queries.extend(queries)\n",
    "\n",
    "    return search_queries\n"
   ]
  },
  {
   "cell_type": "code",
   "execution_count": null,
   "metadata": {},
   "outputs": [
    {
     "name": "stdout",
     "output_type": "stream",
     "text": [
      "['features of the TrailMaster X4 Tent']\n"
     ]
    }
   ],
   "source": [
    "# query = \"Suggest some products from the product catalogue that might interest Jane Doe, based on their purchase history?\"\n",
    "query = \"What are the features of the TrailMaster X4 Tent?\"\n",
    "# query = \"What is the price for TrailMaster X4 Tent?\"\n",
    "\n",
    "queries_for_search = generate_search_queries(query)\n",
    "print(queries_for_search)"
   ]
  },
  {
   "cell_type": "code",
   "execution_count": 11,
   "metadata": {},
   "outputs": [],
   "source": [
    "def generate_cohere_embeddings(search_query):\n",
    "    # Embed the search query\n",
    "    return co.embed(\n",
    "        model=\"embed-english-v3.0\",\n",
    "        input_type=\"search_query\",\n",
    "        texts=[search_query],\n",
    "        embedding_types=[\"int8\"]).embeddings.int8"
   ]
  },
  {
   "cell_type": "code",
   "execution_count": 12,
   "metadata": {},
   "outputs": [
    {
     "name": "stdout",
     "output_type": "stream",
     "text": [
      "Search query:  ['features of the TrailMaster X4 Tent']\n",
      "1 Search query embeddings generated\n"
     ]
    }
   ],
   "source": [
    "#### Embed search Query\n",
    "\n",
    "query_emb = []\n",
    "for query in queries_for_search:\n",
    "    print(\"Search query: \", queries_for_search)\n",
    "    query_emb.extend(generate_cohere_embeddings(query))\n",
    "\n",
    "# queries_for_search = generate_search_queries(query)[0]\n",
    "# print(\"Search query: \", queries_for_search)\n",
    "\n",
    "# # Embed the search query\n",
    "# query_emb = co.embed(\n",
    "#     model=\"embed-english-v3.0\",\n",
    "#     input_type=\"search_query\",\n",
    "#     texts=[queries_for_search],\n",
    "#     embedding_types=[\"float\"]).embeddings.float\n",
    "\n",
    "print(len(query_emb), \"Search query embeddings generated\")\n"
   ]
  },
  {
   "cell_type": "code",
   "execution_count": 13,
   "metadata": {},
   "outputs": [
    {
     "name": "stdout",
     "output_type": "stream",
     "text": [
      "Search query: features of the TrailMaster X4 Tent\n",
      "Rank: 1\n",
      "Score: 1201942\n",
      "Document: 4) Are there any additional accessories included with the TrailMaster X4 Tent?\n",
      "   The TrailMaster X4 Tent includes a rainfly, tent stakes, guy lines, and a carry bag for easy transport.\n",
      "\n",
      "5) Can the TrailMaster X4 Tent be easily carried during hikes?\n",
      "   Yes, the TrailMaster X4 Tent weighs just 12lbs, and when packed in its carry bag, it can be comfortably carried during hikes.\n",
      "\n",
      "Rank: 2\n",
      "Score: 1178961\n",
      "Document: 3) **Rating:** 5\n",
      "   **Review:** The TrailMaster X4 Tent is a fantastic investment for any serious camper. The easy setup and spacious interior make it perfect for extended trips, and the waterproof design kept us dry in heavy rain.\n",
      "\n",
      "4) **Rating:** 4\n",
      "   **Review:** I like the TrailMaster X4 Tent, but I wish it came in more colors. It's comfortable and has many useful features, but the green color just isn't my favorite. Overall, it's a good tent.\n",
      "\n",
      "Rank: 3\n",
      "Score: 1137190\n",
      "Document: ## Reviews\n",
      "1) **Rating:** 5\n",
      "   **Review:** I am extremely happy with my TrailMaster X4 Tent! It's spacious, easy to set up, and kept me dry during a storm. The UV protection is a great addition too. Highly recommend it to anyone who loves camping!\n",
      "\n",
      "2) **Rating:** 3\n",
      "   **Review:** I bought the TrailMaster X4 Tent, and while it's waterproof and has a spacious interior, I found it a bit difficult to set up. It's a decent tent, but I wish it were easier to assemble.\n",
      "\n",
      "Rank: 4\n",
      "Score: 1089907\n",
      "Document: 2) How many people can comfortably sleep in the TrailMaster X4 Tent?\n",
      "   The TrailMaster X4 Tent can comfortably accommodate up to 4 people with room for their gear.\n",
      "\n",
      "3) Is there a warranty on the TrailMaster X4 Tent?\n",
      "   Yes, the TrailMaster X4 Tent comes with a 2-year limited warranty against manufacturing defects.\n",
      "\n",
      "Rank: 5\n",
      "Score: 1068965\n",
      "Document: 1. **Warranty Coverage**: The TrailMaster X4 Tent is covered by a **2-year limited warranty** from the date of purchase. This warranty covers manufacturing defects in materials and workmanship.\n",
      "\n"
     ]
    }
   ],
   "source": [
    "### Search for most relavant documents\n",
    "\n",
    "n = 5\n",
    "retrieved_documents = []\n",
    "# scores = np.dot(query_emb, np.transpose(embeddings))[0]\n",
    "# max_idx = np.argsort(-scores)[:n]\n",
    "\n",
    "# retrieved_documents = [document_texts[item] for item in max_idx]\n",
    "\n",
    "# for rank, idx in enumerate(max_idx):\n",
    "#     print(f\"Rank: {rank+1}\")\n",
    "#     print(f\"Score: {scores[idx]}\")\n",
    "#     print(f\"Document: {retrieved_documents[rank]}\\n\")\n",
    "\n",
    "# Compute dot product similarity and display results\n",
    "# Calculates the similarity or relevance scores between the query embedding and each of the item embeddings.\n",
    "for idx, emb in enumerate(query_emb):\n",
    "    scores = np.dot(emb, np.transpose(embeddings))\n",
    "    max_idx = np.argsort(-scores)[:n]\n",
    "    retrieved_documents.extend([document_texts[item] for item in max_idx])\n",
    "    print(f\"Search query: {queries_for_search[idx]}\")\n",
    "    for rank, idx in enumerate(max_idx):\n",
    "        print(f\"Rank: {rank+1}\")\n",
    "        print(f\"Score: {scores[idx]}\")\n",
    "        print(f\"Document: {document_texts[idx]}\\n\")\n"
   ]
  },
  {
   "cell_type": "code",
   "execution_count": 14,
   "metadata": {},
   "outputs": [
    {
     "name": "stdout",
     "output_type": "stream",
     "text": [
      "Rank: 1\n",
      "Score: 0.99942076\n",
      "Document: 3) **Rating:** 5\n",
      "   **Review:** The TrailMaster X4 Tent is a fantastic investment for any serious camper. The easy setup and spacious interior make it perfect for extended trips, and the waterproof design kept us dry in heavy rain.\n",
      "\n",
      "4) **Rating:** 4\n",
      "   **Review:** I like the TrailMaster X4 Tent, but I wish it came in more colors. It's comfortable and has many useful features, but the green color just isn't my favorite. Overall, it's a good tent.\n",
      "\n",
      "Rank: 2\n",
      "Score: 0.9993487\n",
      "Document: 4) Are there any additional accessories included with the TrailMaster X4 Tent?\n",
      "   The TrailMaster X4 Tent includes a rainfly, tent stakes, guy lines, and a carry bag for easy transport.\n",
      "\n",
      "5) Can the TrailMaster X4 Tent be easily carried during hikes?\n",
      "   Yes, the TrailMaster X4 Tent weighs just 12lbs, and when packed in its carry bag, it can be comfortably carried during hikes.\n",
      "\n"
     ]
    }
   ],
   "source": [
    "# Rerank the documents\n",
    "retrieved_documents_str = [str(doc) for doc in retrieved_documents]\n",
    "reranked_documents = []\n",
    "for idx, doc in enumerate(queries_for_search):\n",
    "    results = co.rerank(query=queries_for_search[idx],\n",
    "                        documents=retrieved_documents_str,\n",
    "                        top_n=2,\n",
    "                        model='rerank-english-v3.0')\n",
    "    # Display the reranking results\n",
    "    for idx, result in enumerate(results.results):\n",
    "        print(f\"Rank: {idx+1}\") \n",
    "        print(f\"Score: {result.relevance_score}\")\n",
    "        print(f\"Document: {retrieved_documents[result.index]}\\n\")\n",
    "    reranked_documents.extend([retrieved_documents_str[result.index] for result in results.results])\n"
   ]
  },
  {
   "cell_type": "code",
   "execution_count": 15,
   "metadata": {},
   "outputs": [
    {
     "name": "stdout",
     "output_type": "stream",
     "text": [
      "The TrailMaster X4 Tent is a great investment for serious campers. It is easy to set up and has a spacious interior, making it perfect for extended trips. It is also waterproof, so you can stay dry in heavy rain. The tent is comfortable and has many useful features, but it is only available in green.\n",
      "\n",
      "The tent weighs 12 lbs and comes with a carry bag for easy transport during hikes. It also includes a rainfly, tent stakes, and guy lines.\n",
      "\n",
      "CITATIONS:\n",
      "start=29 end=66 text='great investment for serious campers.' sources=[DocumentSource(type='document', id='doc:0', document={'content': \"3) **Rating:** 5\\n   **Review:** The TrailMaster X4 Tent is a fantastic investment for any serious camper. The easy setup and spacious interior make it perfect for extended trips, and the waterproof design kept us dry in heavy rain.\\n\\n4) **Rating:** 4\\n   **Review:** I like the TrailMaster X4 Tent, but I wish it came in more colors. It's comfortable and has many useful features, but the green color just isn't my favorite. Overall, it's a good tent.\", 'id': 'doc:0'})] \n",
      "\n",
      "start=73 end=87 text='easy to set up' sources=[DocumentSource(type='document', id='doc:0', document={'content': \"3) **Rating:** 5\\n   **Review:** The TrailMaster X4 Tent is a fantastic investment for any serious camper. The easy setup and spacious interior make it perfect for extended trips, and the waterproof design kept us dry in heavy rain.\\n\\n4) **Rating:** 4\\n   **Review:** I like the TrailMaster X4 Tent, but I wish it came in more colors. It's comfortable and has many useful features, but the green color just isn't my favorite. Overall, it's a good tent.\", 'id': 'doc:0'})] \n",
      "\n",
      "start=98 end=115 text='spacious interior' sources=[DocumentSource(type='document', id='doc:0', document={'content': \"3) **Rating:** 5\\n   **Review:** The TrailMaster X4 Tent is a fantastic investment for any serious camper. The easy setup and spacious interior make it perfect for extended trips, and the waterproof design kept us dry in heavy rain.\\n\\n4) **Rating:** 4\\n   **Review:** I like the TrailMaster X4 Tent, but I wish it came in more colors. It's comfortable and has many useful features, but the green color just isn't my favorite. Overall, it's a good tent.\", 'id': 'doc:0'})] \n",
      "\n",
      "start=127 end=154 text='perfect for extended trips.' sources=[DocumentSource(type='document', id='doc:0', document={'content': \"3) **Rating:** 5\\n   **Review:** The TrailMaster X4 Tent is a fantastic investment for any serious camper. The easy setup and spacious interior make it perfect for extended trips, and the waterproof design kept us dry in heavy rain.\\n\\n4) **Rating:** 4\\n   **Review:** I like the TrailMaster X4 Tent, but I wish it came in more colors. It's comfortable and has many useful features, but the green color just isn't my favorite. Overall, it's a good tent.\", 'id': 'doc:0'})] \n",
      "\n",
      "start=166 end=176 text='waterproof' sources=[DocumentSource(type='document', id='doc:0', document={'content': \"3) **Rating:** 5\\n   **Review:** The TrailMaster X4 Tent is a fantastic investment for any serious camper. The easy setup and spacious interior make it perfect for extended trips, and the waterproof design kept us dry in heavy rain.\\n\\n4) **Rating:** 4\\n   **Review:** I like the TrailMaster X4 Tent, but I wish it came in more colors. It's comfortable and has many useful features, but the green color just isn't my favorite. Overall, it's a good tent.\", 'id': 'doc:0'})] \n",
      "\n",
      "start=189 end=212 text='stay dry in heavy rain.' sources=[DocumentSource(type='document', id='doc:0', document={'content': \"3) **Rating:** 5\\n   **Review:** The TrailMaster X4 Tent is a fantastic investment for any serious camper. The easy setup and spacious interior make it perfect for extended trips, and the waterproof design kept us dry in heavy rain.\\n\\n4) **Rating:** 4\\n   **Review:** I like the TrailMaster X4 Tent, but I wish it came in more colors. It's comfortable and has many useful features, but the green color just isn't my favorite. Overall, it's a good tent.\", 'id': 'doc:0'})] \n",
      "\n",
      "start=225 end=236 text='comfortable' sources=[DocumentSource(type='document', id='doc:0', document={'content': \"3) **Rating:** 5\\n   **Review:** The TrailMaster X4 Tent is a fantastic investment for any serious camper. The easy setup and spacious interior make it perfect for extended trips, and the waterproof design kept us dry in heavy rain.\\n\\n4) **Rating:** 4\\n   **Review:** I like the TrailMaster X4 Tent, but I wish it came in more colors. It's comfortable and has many useful features, but the green color just isn't my favorite. Overall, it's a good tent.\", 'id': 'doc:0'})] \n",
      "\n",
      "start=245 end=265 text='many useful features' sources=[DocumentSource(type='document', id='doc:0', document={'content': \"3) **Rating:** 5\\n   **Review:** The TrailMaster X4 Tent is a fantastic investment for any serious camper. The easy setup and spacious interior make it perfect for extended trips, and the waterproof design kept us dry in heavy rain.\\n\\n4) **Rating:** 4\\n   **Review:** I like the TrailMaster X4 Tent, but I wish it came in more colors. It's comfortable and has many useful features, but the green color just isn't my favorite. Overall, it's a good tent.\", 'id': 'doc:0'})] \n",
      "\n",
      "start=277 end=301 text='only available in green.' sources=[DocumentSource(type='document', id='doc:0', document={'content': \"3) **Rating:** 5\\n   **Review:** The TrailMaster X4 Tent is a fantastic investment for any serious camper. The easy setup and spacious interior make it perfect for extended trips, and the waterproof design kept us dry in heavy rain.\\n\\n4) **Rating:** 4\\n   **Review:** I like the TrailMaster X4 Tent, but I wish it came in more colors. It's comfortable and has many useful features, but the green color just isn't my favorite. Overall, it's a good tent.\", 'id': 'doc:0'})] \n",
      "\n",
      "start=312 end=325 text='weighs 12 lbs' sources=[DocumentSource(type='document', id='doc:1', document={'content': '4) Are there any additional accessories included with the TrailMaster X4 Tent?\\n   The TrailMaster X4 Tent includes a rainfly, tent stakes, guy lines, and a carry bag for easy transport.\\n\\n5) Can the TrailMaster X4 Tent be easily carried during hikes?\\n   Yes, the TrailMaster X4 Tent weighs just 12lbs, and when packed in its carry bag, it can be comfortably carried during hikes.', 'id': 'doc:1'})] \n",
      "\n",
      "start=343 end=352 text='carry bag' sources=[DocumentSource(type='document', id='doc:1', document={'content': '4) Are there any additional accessories included with the TrailMaster X4 Tent?\\n   The TrailMaster X4 Tent includes a rainfly, tent stakes, guy lines, and a carry bag for easy transport.\\n\\n5) Can the TrailMaster X4 Tent be easily carried during hikes?\\n   Yes, the TrailMaster X4 Tent weighs just 12lbs, and when packed in its carry bag, it can be comfortably carried during hikes.', 'id': 'doc:1'})] \n",
      "\n",
      "start=357 end=385 text='easy transport during hikes.' sources=[DocumentSource(type='document', id='doc:1', document={'content': '4) Are there any additional accessories included with the TrailMaster X4 Tent?\\n   The TrailMaster X4 Tent includes a rainfly, tent stakes, guy lines, and a carry bag for easy transport.\\n\\n5) Can the TrailMaster X4 Tent be easily carried during hikes?\\n   Yes, the TrailMaster X4 Tent weighs just 12lbs, and when packed in its carry bag, it can be comfortably carried during hikes.', 'id': 'doc:1'})] \n",
      "\n",
      "start=405 end=412 text='rainfly' sources=[DocumentSource(type='document', id='doc:1', document={'content': '4) Are there any additional accessories included with the TrailMaster X4 Tent?\\n   The TrailMaster X4 Tent includes a rainfly, tent stakes, guy lines, and a carry bag for easy transport.\\n\\n5) Can the TrailMaster X4 Tent be easily carried during hikes?\\n   Yes, the TrailMaster X4 Tent weighs just 12lbs, and when packed in its carry bag, it can be comfortably carried during hikes.', 'id': 'doc:1'})] \n",
      "\n",
      "start=414 end=425 text='tent stakes' sources=[DocumentSource(type='document', id='doc:1', document={'content': '4) Are there any additional accessories included with the TrailMaster X4 Tent?\\n   The TrailMaster X4 Tent includes a rainfly, tent stakes, guy lines, and a carry bag for easy transport.\\n\\n5) Can the TrailMaster X4 Tent be easily carried during hikes?\\n   Yes, the TrailMaster X4 Tent weighs just 12lbs, and when packed in its carry bag, it can be comfortably carried during hikes.', 'id': 'doc:1'})] \n",
      "\n",
      "start=431 end=441 text='guy lines.' sources=[DocumentSource(type='document', id='doc:1', document={'content': '4) Are there any additional accessories included with the TrailMaster X4 Tent?\\n   The TrailMaster X4 Tent includes a rainfly, tent stakes, guy lines, and a carry bag for easy transport.\\n\\n5) Can the TrailMaster X4 Tent be easily carried during hikes?\\n   Yes, the TrailMaster X4 Tent weighs just 12lbs, and when packed in its carry bag, it can be comfortably carried during hikes.', 'id': 'doc:1'})] \n",
      "\n"
     ]
    }
   ],
   "source": [
    "# Generate the response\n",
    "response = co.chat(model=\"command-r-plus-08-2024\",\n",
    "                   messages=[{'role': 'user', 'content': query}],\n",
    "                   documents=reranked_documents)\n",
    "\n",
    "# Display the response\n",
    "print(response.message.content[0].text)\n",
    "\n",
    "# Display the citations and source documents\n",
    "if response.message.citations:\n",
    "    print(\"\\nCITATIONS:\")\n",
    "    for citation in response.message.citations:\n",
    "        print(citation, \"\\n\")\n"
   ]
  }
 ],
 "metadata": {
  "language_info": {
   "name": "python"
  }
 },
 "nbformat": 4,
 "nbformat_minor": 2
}
