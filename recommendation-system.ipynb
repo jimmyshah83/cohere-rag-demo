{
 "cells": [
  {
   "cell_type": "markdown",
   "metadata": {},
   "source": [
    "#### Setup"
   ]
  },
  {
   "cell_type": "code",
   "execution_count": 1,
   "metadata": {},
   "outputs": [
    {
     "name": "stdout",
     "output_type": "stream",
     "text": [
      "Note: you may need to restart the kernel to use updated packages.\n"
     ]
    }
   ],
   "source": [
    "%pip install -q -r requirements.txt"
   ]
  },
  {
   "cell_type": "code",
   "execution_count": 23,
   "metadata": {},
   "outputs": [],
   "source": [
    "from dotenv import load_dotenv\n",
    "from azure.identity import DefaultAzureCredential\n",
    "from azure.core.credentials import AzureKeyCredential\n",
    "import os\n",
    "\n",
    "load_dotenv(override=True) # take environment variables from .env.\n",
    "\n",
    "# The following variables from your .env file are used in this notebook\n",
    "cohere_api_key = os.environ[\"COHERE_API_KEY\"]\n",
    "search_service_endpoint = os.environ[\"AZURE_SEARCH_SERVICE_ENDPOINT\"]\n",
    "credential = AzureKeyCredential(os.getenv(\"AZURE_SEARCH_ADMIN_KEY\", \"\")) if len(os.getenv(\"AZURE_SEARCH_ADMIN_KEY\", \"\")) > 0 else DefaultAzureCredential()\n",
    "index_name = os.getenv(\"AZURE_SEARCH_INDEX\", \"recommendationidx\")\n",
    "search_service_name = os.environ[\"AZURE_AI_SEARCH_SERVICE_NAME\"]"
   ]
  },
  {
   "cell_type": "markdown",
   "metadata": {},
   "source": [
    "#### Analyze and Clean data"
   ]
  },
  {
   "cell_type": "code",
   "execution_count": 3,
   "metadata": {},
   "outputs": [
    {
     "data": {
      "text/html": [
       "<div>\n",
       "<style scoped>\n",
       "    .dataframe tbody tr th:only-of-type {\n",
       "        vertical-align: middle;\n",
       "    }\n",
       "\n",
       "    .dataframe tbody tr th {\n",
       "        vertical-align: top;\n",
       "    }\n",
       "\n",
       "    .dataframe thead th {\n",
       "        text-align: right;\n",
       "    }\n",
       "</style>\n",
       "<table border=\"1\" class=\"dataframe\">\n",
       "  <thead>\n",
       "    <tr style=\"text-align: right;\">\n",
       "      <th></th>\n",
       "      <th>Age</th>\n",
       "      <th>Gender</th>\n",
       "      <th>Location</th>\n",
       "      <th>Purchase History</th>\n",
       "      <th>Browsing Behavior</th>\n",
       "    </tr>\n",
       "    <tr>\n",
       "      <th>Customer ID</th>\n",
       "      <th></th>\n",
       "      <th></th>\n",
       "      <th></th>\n",
       "      <th></th>\n",
       "      <th></th>\n",
       "    </tr>\n",
       "  </thead>\n",
       "  <tbody>\n",
       "    <tr>\n",
       "      <th>C001</th>\n",
       "      <td>32</td>\n",
       "      <td>Male</td>\n",
       "      <td>NYC</td>\n",
       "      <td>Sports Gear, Running Shoes, Camping Equipment</td>\n",
       "      <td>Sports, Outdoor Activities</td>\n",
       "    </tr>\n",
       "    <tr>\n",
       "      <th>C002</th>\n",
       "      <td>28</td>\n",
       "      <td>Female</td>\n",
       "      <td>SF</td>\n",
       "      <td>Yoga Mats, Activewear, Hiking Backpack</td>\n",
       "      <td>Fitness, Adventure Travel</td>\n",
       "    </tr>\n",
       "    <tr>\n",
       "      <th>C003</th>\n",
       "      <td>40</td>\n",
       "      <td>Male</td>\n",
       "      <td>LA</td>\n",
       "      <td>Golf Clubs, Polo Shirts, Sun Hats</td>\n",
       "      <td>Golfing, Summer Fashion</td>\n",
       "    </tr>\n",
       "    <tr>\n",
       "      <th>C004</th>\n",
       "      <td>24</td>\n",
       "      <td>Female</td>\n",
       "      <td>Chicago</td>\n",
       "      <td>Skateboards, Streetwear, Headphones</td>\n",
       "      <td>Urban Lifestyle, Music</td>\n",
       "    </tr>\n",
       "    <tr>\n",
       "      <th>C005</th>\n",
       "      <td>36</td>\n",
       "      <td>Male</td>\n",
       "      <td>Miami</td>\n",
       "      <td>Surfboards, Swimwear, Beach Towels</td>\n",
       "      <td>Water Sports, Beach Essentials</td>\n",
       "    </tr>\n",
       "  </tbody>\n",
       "</table>\n",
       "</div>"
      ],
      "text/plain": [
       "              Age   Gender   Location   \\\n",
       "Customer ID                              \n",
       "C001          32    Male     NYC         \n",
       "C002          28    Female   SF          \n",
       "C003          40    Male     LA          \n",
       "C004          24    Female   Chicago     \n",
       "C005          36    Male     Miami       \n",
       "\n",
       "                                           Purchase History   \\\n",
       "Customer ID                                                    \n",
       "C001          Sports Gear, Running Shoes, Camping Equipment    \n",
       "C002                 Yoga Mats, Activewear, Hiking Backpack    \n",
       "C003                      Golf Clubs, Polo Shirts, Sun Hats    \n",
       "C004                    Skateboards, Streetwear, Headphones    \n",
       "C005                     Surfboards, Swimwear, Beach Towels    \n",
       "\n",
       "                           Browsing Behavior   \n",
       "Customer ID                                    \n",
       "C001              Sports, Outdoor Activities   \n",
       "C002               Fitness, Adventure Travel   \n",
       "C003                 Golfing, Summer Fashion   \n",
       "C004                  Urban Lifestyle, Music   \n",
       "C005          Water Sports, Beach Essentials   "
      ]
     },
     "metadata": {},
     "output_type": "display_data"
    }
   ],
   "source": [
    "import pandas as pd\n",
    "from IPython.display import display\n",
    "\n",
    "# Read a markdown file, getting the header from the first row and\n",
    "# index from the second column\n",
    "# Drop the left-most and right-most naN columns\n",
    "# Drop the header underline row\n",
    "display(pd.read_table('dataset/customer-purchase-history.md', sep=\"|\", header=0, index_col=1, skipinitialspace=True).dropna(axis=1, how='all').iloc[1:].head())"
   ]
  },
  {
   "cell_type": "code",
   "execution_count": 4,
   "metadata": {},
   "outputs": [
    {
     "data": {
      "text/html": [
       "<div>\n",
       "<style scoped>\n",
       "    .dataframe tbody tr th:only-of-type {\n",
       "        vertical-align: middle;\n",
       "    }\n",
       "\n",
       "    .dataframe tbody tr th {\n",
       "        vertical-align: top;\n",
       "    }\n",
       "\n",
       "    .dataframe thead th {\n",
       "        text-align: right;\n",
       "    }\n",
       "</style>\n",
       "<table border=\"1\" class=\"dataframe\">\n",
       "  <thead>\n",
       "    <tr style=\"text-align: right;\">\n",
       "      <th></th>\n",
       "      <th>Category</th>\n",
       "      <th>Sub-Category</th>\n",
       "      <th>Product Name</th>\n",
       "      <th>Description</th>\n",
       "    </tr>\n",
       "    <tr>\n",
       "      <th>Product ID</th>\n",
       "      <th></th>\n",
       "      <th></th>\n",
       "      <th></th>\n",
       "      <th></th>\n",
       "    </tr>\n",
       "  </thead>\n",
       "  <tbody>\n",
       "    <tr>\n",
       "      <th>P001</th>\n",
       "      <td>Sports</td>\n",
       "      <td>Gear</td>\n",
       "      <td>Running Shoes</td>\n",
       "      <td>Lightweight, breathable running shoes with exc...</td>\n",
       "    </tr>\n",
       "    <tr>\n",
       "      <th>P002</th>\n",
       "      <td>Fitness</td>\n",
       "      <td>Equipment</td>\n",
       "      <td>Yoga Mats</td>\n",
       "      <td>Non-slip, eco-friendly yoga mats for comfortab...</td>\n",
       "    </tr>\n",
       "    <tr>\n",
       "      <th>P003</th>\n",
       "      <td>Outdoor</td>\n",
       "      <td>Camping</td>\n",
       "      <td>Camping Tents</td>\n",
       "      <td>Spacious, weather-resistant tents for outdoor ...</td>\n",
       "    </tr>\n",
       "    <tr>\n",
       "      <th>P004</th>\n",
       "      <td>Sports</td>\n",
       "      <td>Apparel</td>\n",
       "      <td>Sports Bras</td>\n",
       "      <td>High-support sports bras for various activities.</td>\n",
       "    </tr>\n",
       "    <tr>\n",
       "      <th>P005</th>\n",
       "      <td>Adventure</td>\n",
       "      <td>Water Sports</td>\n",
       "      <td>Surfboards</td>\n",
       "      <td>High-performance surfboards for surfing enthus...</td>\n",
       "    </tr>\n",
       "  </tbody>\n",
       "</table>\n",
       "</div>"
      ],
      "text/plain": [
       "             Category     Sub-Category    Product Name   \\\n",
       "Product ID                                                \n",
       "P001          Sports    Gear             Running Shoes    \n",
       "P002          Fitness   Equipment         Yoga Mats       \n",
       "P003          Outdoor   Camping          Camping Tents    \n",
       "P004          Sports    Apparel           Sports Bras     \n",
       "P005         Adventure  Water Sports      Surfboards      \n",
       "\n",
       "                                                  Description   \n",
       "Product ID                                                      \n",
       "P001         Lightweight, breathable running shoes with exc...  \n",
       "P002         Non-slip, eco-friendly yoga mats for comfortab...  \n",
       "P003         Spacious, weather-resistant tents for outdoor ...  \n",
       "P004         High-support sports bras for various activities.   \n",
       "P005         High-performance surfboards for surfing enthus...  "
      ]
     },
     "metadata": {},
     "output_type": "display_data"
    }
   ],
   "source": [
    "display(pd.read_table('dataset/product-data.md', sep=\"|\", header=0, index_col=1, skipinitialspace=True).dropna(axis=1, how='all').iloc[1:].head())"
   ]
  },
  {
   "cell_type": "code",
   "execution_count": 5,
   "metadata": {},
   "outputs": [
    {
     "data": {
      "text/html": [
       "<div>\n",
       "<style scoped>\n",
       "    .dataframe tbody tr th:only-of-type {\n",
       "        vertical-align: middle;\n",
       "    }\n",
       "\n",
       "    .dataframe tbody tr th {\n",
       "        vertical-align: top;\n",
       "    }\n",
       "\n",
       "    .dataframe thead th {\n",
       "        text-align: right;\n",
       "    }\n",
       "</style>\n",
       "<table border=\"1\" class=\"dataframe\">\n",
       "  <thead>\n",
       "    <tr style=\"text-align: right;\">\n",
       "      <th></th>\n",
       "      <th>Product ID</th>\n",
       "      <th>Customer ID</th>\n",
       "      <th>Rating</th>\n",
       "      <th>Review Text</th>\n",
       "    </tr>\n",
       "    <tr>\n",
       "      <th>Review ID</th>\n",
       "      <th></th>\n",
       "      <th></th>\n",
       "      <th></th>\n",
       "      <th></th>\n",
       "    </tr>\n",
       "  </thead>\n",
       "  <tbody>\n",
       "    <tr>\n",
       "      <th>R001</th>\n",
       "      <td>P001</td>\n",
       "      <td>C001</td>\n",
       "      <td>5</td>\n",
       "      <td>These running shoes are amazing! They provide ...</td>\n",
       "    </tr>\n",
       "    <tr>\n",
       "      <th>R002</th>\n",
       "      <td>P002</td>\n",
       "      <td>C002</td>\n",
       "      <td>4</td>\n",
       "      <td>The yoga mat is great for my practice. It's st...</td>\n",
       "    </tr>\n",
       "    <tr>\n",
       "      <th>R003</th>\n",
       "      <td>P003</td>\n",
       "      <td>C003</td>\n",
       "      <td>5</td>\n",
       "      <td>Spacious and durable camping tent. It withstoo...</td>\n",
       "    </tr>\n",
       "    <tr>\n",
       "      <th>R004</th>\n",
       "      <td>P004</td>\n",
       "      <td>C004</td>\n",
       "      <td>3</td>\n",
       "      <td>Sports bras are functional, but I wish they ha...</td>\n",
       "    </tr>\n",
       "    <tr>\n",
       "      <th>R005</th>\n",
       "      <td>P005</td>\n",
       "      <td>C005</td>\n",
       "      <td>5</td>\n",
       "      <td>High-quality surfboard. It's responsive and al...</td>\n",
       "    </tr>\n",
       "  </tbody>\n",
       "</table>\n",
       "</div>"
      ],
      "text/plain": [
       "            Product ID   Customer ID   Rating   \\\n",
       "Review ID                                        \n",
       "R001        P001         C001          5         \n",
       "R002        P002         C002          4         \n",
       "R003        P003         C003          5         \n",
       "R004        P004         C004          3         \n",
       "R005        P005         C005          5         \n",
       "\n",
       "                                                 Review Text   \n",
       "Review ID                                                      \n",
       "R001        These running shoes are amazing! They provide ...  \n",
       "R002        The yoga mat is great for my practice. It's st...  \n",
       "R003        Spacious and durable camping tent. It withstoo...  \n",
       "R004        Sports bras are functional, but I wish they ha...  \n",
       "R005        High-quality surfboard. It's responsive and al...  "
      ]
     },
     "metadata": {},
     "output_type": "display_data"
    }
   ],
   "source": [
    "display(pd.read_table('dataset/product-reviews.md', sep=\"|\", header=0, index_col=1, skipinitialspace=True).dropna(axis=1, how='all').iloc[1:].head())"
   ]
  },
  {
   "cell_type": "markdown",
   "metadata": {},
   "source": [
    "#### AI Search as Vector Store"
   ]
  },
  {
   "cell_type": "code",
   "execution_count": 6,
   "metadata": {},
   "outputs": [],
   "source": [
    "import cohere\n",
    "from dotenv import load_dotenv\n",
    "from azure.search.documents.indexes import SearchIndexClient\n",
    "from azure.search.documents import SearchClient\n",
    "from azure.search.documents.models import (\n",
    "    VectorizedQuery,\n",
    ")\n",
    "from azure.search.documents.indexes.models import (\n",
    "    HnswAlgorithmConfiguration,\n",
    "    SearchField,\n",
    "    SearchableField,\n",
    "    SearchFieldDataType,\n",
    "    SearchIndex,\n",
    "    SimpleField,\n",
    "    VectorSearch,\n",
    "    VectorSearchAlgorithmKind,\n",
    "    VectorSearchProfile,\n",
    ")\n",
    "from azure.core.credentials import AzureKeyCredential\n",
    "\n",
    "def create_or_update_index(client, index_name):\n",
    "    fields = [\n",
    "        SimpleField(name=\"id\", type=SearchFieldDataType.String, key=True),\n",
    "        SearchField(\n",
    "            name=\"text\",\n",
    "            type=SearchFieldDataType.String,\n",
    "            searchable=True,\n",
    "        ),\n",
    "        SearchField(\n",
    "            name=\"embedding\",\n",
    "            type=\"Collection(Edm.SByte)\",  # OData syntax for 8-bit signed integer\n",
    "            vector_search_dimensions=1024,\n",
    "            vector_search_profile_name=\"my-vector-config\",\n",
    "            # hidden=False, Use hidden=False if you want to return the embeddings in the search results\n",
    "        ),\n",
    "    ]\n",
    "\n",
    "    vector_search = VectorSearch(\n",
    "        profiles=[\n",
    "            VectorSearchProfile(\n",
    "                name=\"my-vector-config\",\n",
    "                algorithm_configuration_name=\"my-hnsw\",\n",
    "            )\n",
    "        ],\n",
    "        algorithms=[\n",
    "            HnswAlgorithmConfiguration(\n",
    "                name=\"my-hnsw\",\n",
    "                kind=VectorSearchAlgorithmKind.HNSW,\n",
    "            )\n",
    "        ],\n",
    "    )\n",
    "\n",
    "    index = SearchIndex(name=index_name, fields=fields, vector_search=vector_search)\n",
    "    client.create_or_update_index(index=index)"
   ]
  },
  {
   "cell_type": "code",
   "execution_count": 7,
   "metadata": {},
   "outputs": [],
   "source": [
    "# Initialize Azure Search Index Client\n",
    "search_index_client = SearchIndexClient(\n",
    "    endpoint=search_service_endpoint,\n",
    "    credential=credential,\n",
    "    index_name=index_name\n",
    ")\n",
    "\n",
    "# Create or update the search index to include the embedding field\n",
    "create_or_update_index(search_index_client, index_name)"
   ]
  },
  {
   "cell_type": "markdown",
   "metadata": {},
   "source": [
    "#### Embed data using Cohere embed V3\n",
    "- Use embed-english-v3.0 model to embed the data with 1024 Dimentions and 512 Context window size"
   ]
  },
  {
   "cell_type": "code",
   "execution_count": 8,
   "metadata": {},
   "outputs": [
    {
     "name": "stdout",
     "output_type": "stream",
     "text": [
      "Loaded 59 documents\n"
     ]
    }
   ],
   "source": [
    "# Chunk and load documents into AI search\n",
    "\n",
    "from langchain.document_loaders import DirectoryLoader\n",
    "from langchain.document_loaders import TextLoader\n",
    "from langchain_text_splitters import RecursiveCharacterTextSplitter\n",
    "\n",
    "loader = DirectoryLoader('dataset/', glob=\"*.md\", loader_cls=TextLoader, loader_kwargs={'autodetect_encoding': True})\n",
    "docs = loader.load()\n",
    "documents = RecursiveCharacterTextSplitter(chunk_size=400, chunk_overlap=20).split_documents(docs)\n",
    "print(f\"Loaded {len(documents)} documents\")"
   ]
  },
  {
   "cell_type": "code",
   "execution_count": 9,
   "metadata": {},
   "outputs": [
    {
     "name": "stdout",
     "output_type": "stream",
     "text": [
      "['| Customer ID | Age | Gender | Location | Purchase History | Browsing Behavior |\\n|-------------|------|--------|----------|------------------|-------------------|\\n| C001        | 32  | Male   | NYC      | Sports Gear, Running Shoes, Camping Equipment | Sports, Outdoor Activities |\\n| C002        | 28  | Female | SF       | Yoga Mats, Activewear, Hiking Backpack | Fitness, Adventure Travel |', '| C003        | 40  | Male   | LA       | Golf Clubs, Polo Shirts, Sun Hats | Golfing, Summer Fashion |\\n| C004        | 24  | Female | Chicago  | Skateboards, Streetwear, Headphones | Urban Lifestyle, Music |\\n| C005        | 36  | Male   | Miami    | Surfboards, Swimwear, Beach Towels | Water Sports, Beach Essentials |']\n"
     ]
    }
   ],
   "source": [
    "# Extract page_content from each Document object\n",
    "document_texts = [doc.page_content for doc in documents]\n",
    "print(document_texts[:2])"
   ]
  },
  {
   "cell_type": "code",
   "execution_count": 10,
   "metadata": {},
   "outputs": [],
   "source": [
    "def generate_embeddings(texts, input_type=\"search_document\"):\n",
    "    model = \"embed-english-v3.0\"\n",
    "    # Ensure texts is a list\n",
    "    if isinstance(texts, str):\n",
    "        texts = [texts]\n",
    "\n",
    "    response = co.embed(\n",
    "        texts=texts,\n",
    "        model=model,\n",
    "        input_type=input_type,\n",
    "        embedding_types=[\"int8\"],\n",
    "    )\n",
    "    return [embedding for embedding in response.embeddings.int8]\n"
   ]
  },
  {
   "cell_type": "code",
   "execution_count": null,
   "metadata": {},
   "outputs": [],
   "source": [
    "# Initialize Cohere client\n",
    "co = cohere.ClientV2()\n",
    "\n",
    "# Generate embeddings\n",
    "embeddings = generate_embeddings(document_texts)"
   ]
  },
  {
   "cell_type": "markdown",
   "metadata": {},
   "source": [
    "#### Upload documents to Vector Store"
   ]
  },
  {
   "cell_type": "code",
   "execution_count": 12,
   "metadata": {},
   "outputs": [],
   "source": [
    "def index_documents(search_client, documents, embeddings):\n",
    "    documents_to_index = [\n",
    "        {\"id\": str(idx), \"text\": doc, \"embedding\": emb}\n",
    "        for idx, (doc, emb) in enumerate(zip(documents, embeddings))\n",
    "    ]\n",
    "    search_client.upload_documents(documents=documents_to_index)"
   ]
  },
  {
   "cell_type": "code",
   "execution_count": 15,
   "metadata": {},
   "outputs": [],
   "source": [
    "# Initialize the SearchClient\n",
    "search_client = SearchClient(\n",
    "    endpoint=search_service_endpoint, \n",
    "    index_name=index_name, \n",
    "    credential=credential\n",
    ")\n",
    "\n",
    "# Index the documents and their embeddings\n",
    "index_documents(search_client, document_texts, embeddings)"
   ]
  },
  {
   "cell_type": "markdown",
   "metadata": {},
   "source": [
    "#### Create a Retriever"
   ]
  },
  {
   "cell_type": "code",
   "execution_count": 27,
   "metadata": {},
   "outputs": [],
   "source": [
    "from langchain_community.retrievers import AzureAISearchRetriever\n",
    "\n",
    "retriever = AzureAISearchRetriever(\n",
    "    content_key=\"text\", top_k=5, index_name=index_name\n",
    ")"
   ]
  },
  {
   "cell_type": "code",
   "execution_count": 37,
   "metadata": {},
   "outputs": [],
   "source": [
    "from langchain.tools.retriever import create_retriever_tool\n",
    "\n",
    "retriever_tool = create_retriever_tool(\n",
    "    retriever,\n",
    "    \"vector_database\",\n",
    "    \"Search for information about Products and Customers. For any questions about e-commerce, you must use this tool!\",\n",
    ")"
   ]
  },
  {
   "cell_type": "code",
   "execution_count": 29,
   "metadata": {},
   "outputs": [],
   "source": [
    "from langchain_cohere import ChatCohere\n",
    "\n",
    "llm = ChatCohere(model=\"command-r-plus-08-2024\", temperature=0)"
   ]
  },
  {
   "cell_type": "code",
   "execution_count": 31,
   "metadata": {},
   "outputs": [],
   "source": [
    "from langchain_core.prompts import ChatPromptTemplate\n",
    "\n",
    "# Preamble\n",
    "preamble = \"\"\"\n",
    "You are an expert who answers the user's question with the most relevant datasource. You are equipped with a special vectorstore of information about customer purchases and product database.\n",
    "\"\"\"\n",
    "# Prompt template\n",
    "prompt = ChatPromptTemplate.from_template(\"{input}\")"
   ]
  },
  {
   "cell_type": "code",
   "execution_count": 38,
   "metadata": {},
   "outputs": [],
   "source": [
    "from langchain_cohere.react_multi_hop.agent import create_cohere_react_agent\n",
    "\n",
    "# Create the ReAct agent\n",
    "agent = create_cohere_react_agent(\n",
    "    llm=llm,\n",
    "    tools=[retriever_tool],\n",
    "    prompt=prompt,\n",
    ")"
   ]
  },
  {
   "cell_type": "code",
   "execution_count": 39,
   "metadata": {},
   "outputs": [],
   "source": [
    "from langchain.agents import AgentExecutor\n",
    "\n",
    "agent_executor = AgentExecutor(agent=agent, tools=[retriever_tool], verbose=True)"
   ]
  },
  {
   "cell_type": "code",
   "execution_count": 40,
   "metadata": {},
   "outputs": [
    {
     "name": "stdout",
     "output_type": "stream",
     "text": [
      "\n",
      "\n",
      "\u001b[1m> Entering new AgentExecutor chain...\u001b[0m\n",
      "\u001b[32;1m\u001b[1;3m\n",
      "I will search for the most popular product.\n",
      "{'tool_name': 'vector_database', 'parameters': {'query': 'What is the most popular product?'}}\n",
      "\u001b[0m\u001b[36;1m\u001b[1;3m| R037      | P037       | C037        | 5      | \"Extra-long yoga mat. It provides ample space for my practice and is comfortable to use.\" |\n",
      "| R038      | P038       | C038        | 4      | \"Quick-pitch tent. It's easy to set up and provides good protection from the elements.\" |\n",
      "\n",
      "| R002      | P002       | C002        | 4      | \"The yoga mat is great for my practice. It's sticky enough to prevent slipping and provides good cushioning.\" |\n",
      "| R003      | P003       | C003        | 5      | \"Spacious and durable camping tent. It withstood the windy conditions during my last camping trip.\" |\n",
      "\n",
      "| R029      | P029       | C029        | 5      | \"Bright and portable lantern. It illuminates my campsite and is easy to carry.\" |\n",
      "| R030      | P030       | C030        | 4      | \"Sturdy skateboard with smooth-rolling wheels. Perfect for cruising around the city.\" |\n",
      "\n",
      "| R013      | P013       | C013        | 5      | \"Stable and maneuverable kayaks. I had a great time paddling in the lake.\" |\n",
      "| R014      | P014       | C014        | 4      | \"Dumbbell set is versatile and allows for various strength exercises. The weights could be a bit smoother to adjust.\" |\n",
      "\n",
      "| R004      | P004       | C004        | 3      | \"Sports bras are functional, but I wish they had more color options.\" |\n",
      "| R005      | P005       | C005        | 5      | \"High-quality surfboard. It's responsive and allows for smooth turns in the waves.\" |\n",
      "| R006      | P006       | C006        | 4      | \"Treadmill is a great addition to my home gym. The incline feature is a nice bonus.\" |\u001b[0m\u001b[32;1m\u001b[1;3mRelevant Documents: 0\n",
      "Cited Documents: 0\n",
      "Answer: The most popular product is the surfboard.\n",
      "Grounded answer: The most popular product is the <co: 0>surfboard.</co: 0>\u001b[0m\n",
      "\n",
      "\u001b[1m> Finished chain.\u001b[0m\n",
      "The most popular product is the surfboard.\n"
     ]
    }
   ],
   "source": [
    "response = agent_executor.invoke({\n",
    "    \"input\": \"What is the most popular product?\",\n",
    "    \"preamble\": preamble,\n",
    "})\n",
    "print(response['output'])"
   ]
  },
  {
   "cell_type": "markdown",
   "metadata": {},
   "source": [
    "Sample questions:\n",
    "- Can you suggest products based on my previous purchases and browsing history?\n",
    "- How can I find similar products to the ones I've recently viewed, but with specific modifications or upgrades?\n",
    "- Given my past reviews and ratings, what are some products that might interest me and that I haven't considered before?\n",
    "- Is it possible to get personalized recommendations that take into account not only my preferences but also those of my family members or friends, for a more holistic shopping experience?\n",
    "- In what ways can I refine my search results to ensure I'm only seeing products that are currently in stock and available for immediate purchase?\n",
    "- Can you provide a feature that allows me to compare products side by side, highlighting their key differences and similarities, to help me make an informed decision?\n",
    "-Given my past purchases and the current season, can you suggest some relevant products that might enhance my wardrobe or home decor?\n",
    "- How can I receive personalized notifications or alerts when new products are launched or when there are special offers or discounts on items that match my preferences?\n",
    "- Can the system learn from my feedback and adjust its recommendations accordingly, ensuring a more dynamic and responsive shopping experience?\n",
    "- With an emphasis on data security, how does the system ensure that my personal information and browsing habits are kept private and secure, especially when making recommendations?"
   ]
  }
 ],
 "metadata": {
  "language_info": {
   "name": "python"
  }
 },
 "nbformat": 4,
 "nbformat_minor": 2
}
