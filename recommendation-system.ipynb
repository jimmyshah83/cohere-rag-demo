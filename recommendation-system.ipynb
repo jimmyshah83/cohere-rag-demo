{
 "cells": [
  {
   "cell_type": "markdown",
   "metadata": {},
   "source": [
    "#### Setup"
   ]
  },
  {
   "cell_type": "code",
   "execution_count": 1,
   "metadata": {},
   "outputs": [
    {
     "name": "stdout",
     "output_type": "stream",
     "text": [
      "Note: you may need to restart the kernel to use updated packages.\n"
     ]
    }
   ],
   "source": [
    "%pip install -r requirements.txt --quiet"
   ]
  },
  {
   "cell_type": "code",
   "execution_count": 2,
   "metadata": {},
   "outputs": [],
   "source": [
    "from dotenv import load_dotenv\n",
    "from azure.identity import DefaultAzureCredential\n",
    "from azure.core.credentials import AzureKeyCredential\n",
    "import os\n",
    "\n",
    "# take environment variables from .env.\n",
    "load_dotenv(override=True) \n",
    "\n",
    "search_service_endpoint = os.environ[\"AZURE_SEARCH_SERVICE_ENDPOINT\"]\n",
    "credential = AzureKeyCredential(os.getenv(\"AZURE_AI_SEARCH_API_KEY\", \"\")) if len(os.getenv(\"AZURE_AI_SEARCH_API_KEY\", \"\")) > 0 else DefaultAzureCredential()\n",
    "index_name = os.getenv(\"AZURE_SEARCH_INDEX\", \"recommendationidx\")"
   ]
  },
  {
   "cell_type": "markdown",
   "metadata": {},
   "source": [
    "#### AI Search as Vector Store"
   ]
  },
  {
   "cell_type": "code",
   "execution_count": 3,
   "metadata": {},
   "outputs": [],
   "source": [
    "from azure.search.documents.indexes import SearchIndexClient\n",
    "\n",
    "# Initialize Azure Search Index Client\n",
    "search_index_client = SearchIndexClient(\n",
    "    endpoint=search_service_endpoint,\n",
    "    credential=credential,\n",
    "    index_name=index_name\n",
    ")"
   ]
  },
  {
   "cell_type": "markdown",
   "metadata": {},
   "source": [
    "#### Embed data using Cohere embed V3 without Vector DB\n",
    "- Use embed-english-v3.0 model to embed the data with 1024 Dimentions and 512 Context window size"
   ]
  },
  {
   "cell_type": "code",
   "execution_count": 4,
   "metadata": {},
   "outputs": [],
   "source": [
    "import cohere\n",
    "\n",
    "# Initialize Cohere client\n",
    "co = cohere.ClientV2()"
   ]
  },
  {
   "cell_type": "code",
   "execution_count": 5,
   "metadata": {},
   "outputs": [
    {
     "name": "stdout",
     "output_type": "stream",
     "text": [
      "Loaded 809 documents\n"
     ]
    }
   ],
   "source": [
    "# Chunk and load documents into AI search\n",
    "\n",
    "from langchain.document_loaders import DirectoryLoader\n",
    "from langchain.document_loaders import TextLoader\n",
    "from langchain_text_splitters import RecursiveCharacterTextSplitter\n",
    "\n",
    "loader = DirectoryLoader('data/', glob=\"*.md\", loader_cls=TextLoader, loader_kwargs={'autodetect_encoding': True})\n",
    "docs = loader.load()\n",
    "documents = RecursiveCharacterTextSplitter(chunk_size=450, chunk_overlap=50).split_documents(docs)\n",
    "print(f\"Loaded {len(documents)} documents\")"
   ]
  },
  {
   "cell_type": "code",
   "execution_count": 6,
   "metadata": {},
   "outputs": [],
   "source": [
    "# Extract page_content from each Document object\n",
    "document_texts = [doc.page_content for doc in documents]"
   ]
  },
  {
   "cell_type": "code",
   "execution_count": 7,
   "metadata": {},
   "outputs": [],
   "source": [
    "def generate_embeddings(texts, input_type=\"search_document\"):\n",
    "    model = \"embed-english-v3.0\"\n",
    "    # Ensure texts is a list\n",
    "    if isinstance(texts, str):\n",
    "        texts = [texts]\n",
    "\n",
    "    response = co.embed(\n",
    "        texts=texts,\n",
    "        model=model,\n",
    "        input_type=input_type,\n",
    "        embedding_types=[\"int8\"],\n",
    "    )\n",
    "    return [embedding for embedding in response.embeddings.int8]\n"
   ]
  },
  {
   "cell_type": "code",
   "execution_count": 8,
   "metadata": {},
   "outputs": [
    {
     "name": "stdout",
     "output_type": "stream",
     "text": [
      "809 Document embeddings generated\n"
     ]
    }
   ],
   "source": [
    "import time\n",
    "\n",
    "# Limit to 80 calls per minute as Free Embed API has a limitation of 100 calls per min\n",
    "batch_size = 80\n",
    "embeddings = []\n",
    "for i in range(0, len(document_texts), batch_size):\n",
    "    batch = document_texts[i:i + batch_size]\n",
    "    embeddings.extend(generate_embeddings(batch))\n",
    "    if i + batch_size < len(document_texts):\n",
    "        time.sleep(60)  # Sleep for 60 seconds to respect the rate limit\n",
    "\n",
    "print (len(embeddings), \"Document embeddings generated\")"
   ]
  },
  {
   "cell_type": "markdown",
   "metadata": {},
   "source": [
    "#### RAG with Cohere client and Cohere Command R+ with Citations\n",
    "\n",
    "In a basic RAG application, the steps involved are:\n",
    "- Transforming the user message into search queries\n",
    "- Retrieving relevant documents for a given search query\n",
    "- Generating the response and citations\n"
   ]
  },
  {
   "cell_type": "code",
   "execution_count": 9,
   "metadata": {},
   "outputs": [],
   "source": [
    "import cohere\n",
    "from typing import List\n",
    "import numpy as np\n",
    "import json\n",
    "\n",
    "# Setup Cohere client\n",
    "co = cohere.ClientV2()"
   ]
  },
  {
   "cell_type": "code",
   "execution_count": 10,
   "metadata": {},
   "outputs": [],
   "source": [
    "def generate_search_queries(message: str) -> List[str]:\n",
    "    \n",
    "    # Define the query generation tool\n",
    "    query_gen_tool = [\n",
    "        {\n",
    "            \"type\": \"function\",\n",
    "            \"function\": {\n",
    "                \"name\": \"internet_search\",\n",
    "                \"description\": \"Returns a list of relevant document snippets for a textual query retrieved from the internet\",\n",
    "                \"parameters\": {\n",
    "                    \"type\": \"object\",\n",
    "                    \"properties\": {\n",
    "                        \"queries\": {\n",
    "                            \"type\": \"array\",\n",
    "                            \"items\": {\"type\": \"string\"},\n",
    "                            \"description\": \"a list of queries to search the internet with.\",\n",
    "                        }\n",
    "                    },\n",
    "                    \"required\": [\"queries\"],\n",
    "                },\n",
    "            },\n",
    "        }\n",
    "    ]\n",
    "\n",
    "\n",
    "    # Define a preamble to optimize search query generation\n",
    "    system_message = \"Write a search query that will find helpful information for answering the user's question accurately. If you need more than one search query, write a list of search queries. If you decide that a search is very unlikely to find information that would be useful in constructing a response to the user, you should instead directly answer.\"\n",
    "\n",
    "    # Generate search queries (if any)\n",
    "    search_queries = []\n",
    "    \n",
    "    res = co.chat(\n",
    "        model=\"command-r-08-2024\",\n",
    "        messages=[\n",
    "            {\"role\": \"system\", \"content\": system_message},\n",
    "            {\"role\": \"user\", \"content\": message},\n",
    "        ],\n",
    "        tools=query_gen_tool\n",
    "    )\n",
    "    \n",
    "    if res.message.tool_calls:\n",
    "        for tc in res.message.tool_calls:\n",
    "            queries = json.loads(tc.function.arguments)[\"queries\"]\n",
    "            search_queries.extend(queries)\n",
    "\n",
    "    return search_queries\n"
   ]
  },
  {
   "cell_type": "code",
   "execution_count": 27,
   "metadata": {},
   "outputs": [
    {
     "name": "stdout",
     "output_type": "stream",
     "text": [
      "['products that might interest Jane Doe based on their purchase history']\n"
     ]
    }
   ],
   "source": [
    "query = \"Suggest some products from the product catalogue that might interest Jane Doe, based on their purchase history?\"\n",
    "queries_for_search = generate_search_queries(query)\n",
    "print(queries_for_search)"
   ]
  },
  {
   "cell_type": "code",
   "execution_count": 28,
   "metadata": {},
   "outputs": [],
   "source": [
    "def generate_cohere_embeddings(search_query):\n",
    "    # Embed the search query\n",
    "    return co.embed(\n",
    "        model=\"embed-english-v3.0\",\n",
    "        input_type=\"search_query\",\n",
    "        texts=[search_query],\n",
    "        embedding_types=[\"int8\"]).embeddings.int8"
   ]
  },
  {
   "cell_type": "code",
   "execution_count": 29,
   "metadata": {},
   "outputs": [
    {
     "name": "stdout",
     "output_type": "stream",
     "text": [
      "Search query:  ['products that might interest Jane Doe based on their purchase history']\n",
      "1 Search query embeddings generated\n"
     ]
    }
   ],
   "source": [
    "#### Embed search Query\n",
    "\n",
    "query_emb = []\n",
    "for query in queries_for_search:\n",
    "    print(\"Search query: \", queries_for_search)\n",
    "    query_emb.extend(generate_cohere_embeddings(query))\n",
    "\n",
    "# queries_for_search = generate_search_queries(query)[0]\n",
    "# print(\"Search query: \", queries_for_search)\n",
    "\n",
    "# # Embed the search query\n",
    "# query_emb = co.embed(\n",
    "#     model=\"embed-english-v3.0\",\n",
    "#     input_type=\"search_query\",\n",
    "#     texts=[queries_for_search],\n",
    "#     embedding_types=[\"float\"]).embeddings.float\n",
    "\n",
    "print(len(query_emb), \"Search query embeddings generated\")\n"
   ]
  },
  {
   "cell_type": "code",
   "execution_count": 30,
   "metadata": {},
   "outputs": [
    {
     "name": "stdout",
     "output_type": "stream",
     "text": [
      "Search query: products that might interest Jane Doe based on their purchase history\n",
      "Rank: 1\n",
      "Score: 584014\n",
      "Document: ## Customer_Info\n",
      "\n",
      "First Name: Jane \n",
      "Last Name: Doe \n",
      "Age: 28 \n",
      "Email Address: janedoe@example.com \n",
      "Phone Number: 555-987-6543 \n",
      "Shipping Address: 456 Oak St, Another City USA, 67890 \n",
      "Membership: Gold \n",
      "\n",
      "## Recent_Purchases\n",
      "\n",
      "Rank: 2\n",
      "Score: 485443\n",
      "Document: ## Recent_Purchases\n",
      "\n",
      "order_number: 6 \n",
      "date: 2023-01-10 \n",
      "item:\n",
      "- description:  Adventurer Pro Backpack, quantity 1, price $90 \n",
      "  item_number: 2 \n",
      " \n",
      "order_number: 15 \n",
      "date: 2023-01-20 \n",
      "item:\n",
      "- description:  TrekReady Hiking Boots, quantity 1, price $140 \n",
      "  item_number: 4 \n",
      "\n",
      "order_number: 23 \n",
      "date: 2023-01-30 \n",
      "item:\n",
      "- description:  EcoFire Camping Stove, quantity 1, price $80 \n",
      "  item_number: 6\n",
      "\n",
      "Rank: 3\n",
      "Score: 456621\n",
      "Document: **Review:** The TrailWalker Hiking Shoes are fantastic! I've used them extensively on multiple hiking trips, and they have never let me down. The grip on various surfaces is exceptional, providing stability even on slippery trails. The shoes offer ample protection for my feet without sacrificing comfort. Additionally, they have withstood rough conditions and still look almost brand new. I highly recommend these shoes to anyone seeking a\n",
      "\n"
     ]
    }
   ],
   "source": [
    "### Search for most relavant documents\n",
    "\n",
    "n = 3\n",
    "retrieved_documents = []\n",
    "# scores = np.dot(query_emb, np.transpose(embeddings))[0]\n",
    "# max_idx = np.argsort(-scores)[:n]\n",
    "\n",
    "# retrieved_documents = [document_texts[item] for item in max_idx]\n",
    "\n",
    "# for rank, idx in enumerate(max_idx):\n",
    "#     print(f\"Rank: {rank+1}\")\n",
    "#     print(f\"Score: {scores[idx]}\")\n",
    "#     print(f\"Document: {retrieved_documents[rank]}\\n\")\n",
    "\n",
    "# Compute dot product similarity and display results\n",
    "# Calculates the similarity or relevance scores between the query embedding and each of the item embeddings.\n",
    "for idx, emb in enumerate(query_emb):\n",
    "    scores = np.dot(emb, np.transpose(embeddings))\n",
    "    max_idx = np.argsort(-scores)[:n]\n",
    "    retrieved_documents.extend([document_texts[item] for item in max_idx])\n",
    "    print(f\"Search query: {queries_for_search[idx]}\")\n",
    "    for rank, idx in enumerate(max_idx):\n",
    "        print(f\"Rank: {rank+1}\")\n",
    "        print(f\"Score: {scores[idx]}\")\n",
    "        print(f\"Document: {document_texts[idx]}\\n\")\n"
   ]
  },
  {
   "cell_type": "code",
   "execution_count": 31,
   "metadata": {},
   "outputs": [
    {
     "name": "stdout",
     "output_type": "stream",
     "text": [
      "Rank: 1\n",
      "Score: 0.025516603\n",
      "Document: ## Customer_Info\n",
      "\n",
      "First Name: Jane \n",
      "Last Name: Doe \n",
      "Age: 28 \n",
      "Email Address: janedoe@example.com \n",
      "Phone Number: 555-987-6543 \n",
      "Shipping Address: 456 Oak St, Another City USA, 67890 \n",
      "Membership: Gold \n",
      "\n",
      "## Recent_Purchases\n",
      "\n",
      "Rank: 2\n",
      "Score: 0.00029137006\n",
      "Document: ## Recent_Purchases\n",
      "\n",
      "order_number: 6 \n",
      "date: 2023-01-10 \n",
      "item:\n",
      "- description:  Adventurer Pro Backpack, quantity 1, price $90 \n",
      "  item_number: 2 \n",
      " \n",
      "order_number: 15 \n",
      "date: 2023-01-20 \n",
      "item:\n",
      "- description:  TrekReady Hiking Boots, quantity 1, price $140 \n",
      "  item_number: 4 \n",
      "\n",
      "order_number: 23 \n",
      "date: 2023-01-30 \n",
      "item:\n",
      "- description:  EcoFire Camping Stove, quantity 1, price $80 \n",
      "  item_number: 6\n",
      "\n"
     ]
    }
   ],
   "source": [
    "# Rerank the documents\n",
    "retrieved_documents_str = [str(doc) for doc in retrieved_documents]\n",
    "reranked_documents = []\n",
    "for idx, doc in enumerate(queries_for_search):\n",
    "    results = co.rerank(query=queries_for_search[idx],\n",
    "                        documents=retrieved_documents_str,\n",
    "                        top_n=2,\n",
    "                        model='rerank-english-v3.0')\n",
    "    # Display the reranking results\n",
    "    for idx, result in enumerate(results.results):\n",
    "        print(f\"Rank: {idx+1}\") \n",
    "        print(f\"Score: {result.relevance_score}\")\n",
    "        print(f\"Document: {retrieved_documents[result.index]}\\n\")\n",
    "    reranked_documents.extend([retrieved_documents_str[result.index] for result in results.results])\n"
   ]
  },
  {
   "cell_type": "code",
   "execution_count": 32,
   "metadata": {},
   "outputs": [
    {
     "name": "stdout",
     "output_type": "stream",
     "text": [
      "Jane Doe's recent purchases suggest that she might be interested in outdoor activities. Based on her purchase history, she might be interested in the following products:\n",
      "- Hiking socks\n",
      "- Waterproof jacket\n",
      "- Camping tent\n",
      "- Sleeping bag\n",
      "- Trekking poles\n",
      "- Portable water filter\n",
      "- Solar charger\n",
      "- Headlamp\n",
      "- First aid kit\n",
      "- Insect repellent\n",
      "- Portable stove\n",
      "\n",
      "CITATIONS:\n",
      "start=11 end=27 text='recent purchases' sources=[DocumentSource(type='document', id='doc:1', document={'content': '## Recent_Purchases\\n\\norder_number: 6 \\ndate: 2023-01-10 \\nitem:\\n- description:  Adventurer Pro Backpack, quantity 1, price $90 \\n\\xa0 item_number: 2 \\n \\norder_number: 15 \\ndate: 2023-01-20 \\nitem:\\n- description:  TrekReady Hiking Boots, quantity 1, price $140 \\n\\xa0 item_number: 4 \\n\\norder_number: 23 \\ndate: 2023-01-30 \\nitem:\\n- description:  EcoFire Camping Stove, quantity 1, price $80 \\n\\xa0 item_number: 6', 'id': 'doc:1'})] \n",
      "\n"
     ]
    }
   ],
   "source": [
    "# Generate the response\n",
    "response = co.chat(model=\"command-r-plus-08-2024\",\n",
    "                   messages=[{'role': 'user', 'content': query}],\n",
    "                   documents=reranked_documents)\n",
    "\n",
    "# Display the response\n",
    "print(response.message.content[0].text)\n",
    "\n",
    "# Display the citations and source documents\n",
    "if response.message.citations:\n",
    "    print(\"\\nCITATIONS:\")\n",
    "    for citation in response.message.citations:\n",
    "        print(citation, \"\\n\")\n"
   ]
  },
  {
   "cell_type": "markdown",
   "metadata": {},
   "source": [
    "-------------------------------------------------------------------------------------------"
   ]
  },
  {
   "cell_type": "markdown",
   "metadata": {},
   "source": [
    "#### RAG with Langchain to maintain chat history"
   ]
  },
  {
   "cell_type": "code",
   "execution_count": null,
   "metadata": {},
   "outputs": [],
   "source": [
    "# Create an AI search Retriever\n",
    "\n",
    "from langchain_community.retrievers import AzureAISearchRetriever\n",
    "\n",
    "ai_search_retriever = AzureAISearchRetriever(\n",
    "    content_key=\"content\", top_k=5, index_name=index_name\n",
    ")"
   ]
  },
  {
   "cell_type": "code",
   "execution_count": null,
   "metadata": {},
   "outputs": [],
   "source": [
    "from langchain_core.prompts import ChatPromptTemplate\n",
    "\n",
    "prompt = ChatPromptTemplate.from_template(\n",
    "    \"\"\"You are a ecommerce system that help users to find products that match their preferences. \n",
    "Use the following pieces of context to answer the question at the end. \n",
    "If you don't know the answer, just say that you don't know, don't try to make up an answer.\n",
    "\n",
    "Context: {context}\n",
    "\n",
    "Question: {question}\"\"\"\n",
    ")"
   ]
  },
  {
   "cell_type": "code",
   "execution_count": null,
   "metadata": {},
   "outputs": [],
   "source": [
    "def format_docs(docs):\n",
    "    return \"\\n\\n\".join(doc.page_content for doc in docs)"
   ]
  },
  {
   "cell_type": "code",
   "execution_count": null,
   "metadata": {},
   "outputs": [],
   "source": [
    "from langchain_cohere import ChatCohere\n",
    "from langchain_core.runnables import RunnablePassthrough\n",
    "from langchain_core.output_parsers import StrOutputParser\n",
    "\n",
    "# Define the Cohere LLM\n",
    "llm = ChatCohere(model=\"command-r-plus-08-2024\", temperature=0)\n",
    "\n",
    "chain = (\n",
    "    {\"context\": ai_search_retriever | format_docs, \"question\": RunnablePassthrough()}\n",
    "    | prompt\n",
    "    | llm\n",
    "    | StrOutputParser()\n",
    ")"
   ]
  },
  {
   "cell_type": "markdown",
   "metadata": {},
   "source": [
    "#### Simple Product and Customer Queries Using LangChain"
   ]
  },
  {
   "cell_type": "code",
   "execution_count": null,
   "metadata": {},
   "outputs": [],
   "source": [
    "chain.invoke(\"What is the price for TrailMaster X4 Tent?\")"
   ]
  },
  {
   "cell_type": "code",
   "execution_count": null,
   "metadata": {},
   "outputs": [],
   "source": [
    "chain.invoke(\"What are some of the purchases made by Jane Doe?\")"
   ]
  },
  {
   "cell_type": "code",
   "execution_count": null,
   "metadata": {},
   "outputs": [],
   "source": [
    "chain.invoke(\"What are the features of the TrailMaster X4 Tent?\")"
   ]
  },
  {
   "cell_type": "code",
   "execution_count": null,
   "metadata": {},
   "outputs": [],
   "source": [
    "chain.invoke(\"What are some products bought by people in Suburbia?\")"
   ]
  },
  {
   "cell_type": "markdown",
   "metadata": {},
   "source": [
    "#### RAG with Langchain to maintain chat history\n",
    "\n",
    "- Managing Context window techniques\n",
    "1. Trim messages\n",
    "2. Filter messages: The most straight-forward thing to do to prevent conversation history from blowing up is to filter the list of messages before they get passed to the LLM. \n",
    "3. Reset context window\n",
    "4. Summarize and reset context window"
   ]
  },
  {
   "cell_type": "markdown",
   "metadata": {},
   "source": [
    "#### Chat History with Langgraph & Agentic AI"
   ]
  },
  {
   "cell_type": "code",
   "execution_count": null,
   "metadata": {},
   "outputs": [],
   "source": [
    "# from typing import Literal\n",
    "from langchain_core.tools import tool\n",
    "from langgraph.checkpoint.memory import MemorySaver\n",
    "from langgraph.graph import MessagesState, StateGraph, START, END\n",
    "from langgraph.prebuilt import ToolNode\n",
    "from langchain.tools.retriever import create_retriever_tool\n",
    "\n",
    "memory = MemorySaver()\n",
    "\n",
    "@tool\n",
    "def search(query: str):\n",
    "    \"\"\"Call to surf its existing knowledge base.\"\"\"\n",
    "    # This is a placeholder for the actual implementation\n",
    "    # Don't let the LLM know this though 😊\n",
    "    return \"It's sunny in San Francisco, but you better look out if you're a Gemini 😈.\"\n",
    "    \n",
    "retriever_tool = create_retriever_tool(\n",
    "    ai_search_retriever,\n",
    "    \"retrieve_products_customers\",\n",
    "    \"Search and return information about products and customeras on LLM agents, prompt engineering, and adversarial attacks on LLMs.\",\n",
    ")\n",
    "\n",
    "tools = [retriever_tool, search]\n",
    "tool_node = ToolNode(tools)\n",
    "model = ChatCohere(model=\"command-r-plus-08-2024\")\n",
    "bound_model = model.bind_tools(tools)\n",
    "\n",
    "def should_continue(state: MessagesState):\n",
    "    \"\"\"Return the next node to execute.\"\"\"\n",
    "    last_message = state[\"messages\"][-1]\n",
    "    # If there is no function call, then we finish\n",
    "    if not last_message.tool_calls:\n",
    "        return END\n",
    "    # Otherwise if there is, we continue\n",
    "    return \"action\"\n",
    "\n",
    "\n",
    "# Define the function that calls the model\n",
    "def call_model(state: MessagesState):\n",
    "    response = bound_model.invoke(state[\"messages\"])\n",
    "    # We return a list, because this will get added to the existing list\n",
    "    return {\"messages\": response}\n",
    "\n",
    "\n",
    "# Define a new graph\n",
    "workflow = StateGraph(MessagesState)\n",
    "\n",
    "# Define the two nodes we will cycle between\n",
    "workflow.add_node(\"agent\", call_model)\n",
    "workflow.add_node(\"action\", tool_node)\n",
    "\n",
    "# Set the entrypoint as `agent`\n",
    "# This means that this node is the first one called\n",
    "workflow.add_edge(START, \"agent\")\n",
    "\n",
    "# We now add a conditional edge\n",
    "workflow.add_conditional_edges(\n",
    "    # First, we define the start node. We use `agent`.\n",
    "    # This means these are the edges taken after the `agent` node is called.\n",
    "    \"agent\",\n",
    "    # Next, we pass in the function that will determine which node is called next.\n",
    "    should_continue,\n",
    "    # Next, we pass in the path map - all the possible nodes this edge could go to\n",
    "    [\"action\", END],\n",
    ")\n",
    "\n",
    "# We now add a normal edge from `tools` to `agent`.\n",
    "# This means that after `tools` is called, `agent` node is called next.\n",
    "workflow.add_edge(\"action\", \"agent\")\n",
    "\n",
    "# Finally, we compile it!\n",
    "# This compiles it into a LangChain Runnable,\n",
    "# meaning you can use it as you would any other runnable\n",
    "app = workflow.compile(checkpointer=memory)"
   ]
  },
  {
   "cell_type": "code",
   "execution_count": null,
   "metadata": {},
   "outputs": [],
   "source": [
    "from IPython.display import Image, display\n",
    "from langchain_core.runnables.graph import CurveStyle, MermaidDrawMethod, NodeStyles\n",
    "\n",
    "display(\n",
    "    Image(\n",
    "        app.get_graph().draw_mermaid_png(\n",
    "            draw_method=MermaidDrawMethod.API,\n",
    "        )\n",
    "    )\n",
    ")"
   ]
  },
  {
   "cell_type": "code",
   "execution_count": null,
   "metadata": {},
   "outputs": [],
   "source": [
    "from langchain_core.messages import HumanMessage\n",
    "\n",
    "config = {\"configurable\": {\"thread_id\": \"1\"}}\n",
    "input_message = HumanMessage(content=\"hi! I'm Jane Doe\")\n",
    "for event in app.stream({\"messages\": [input_message]}, config, stream_mode=\"values\"):\n",
    "    event[\"messages\"][-1].pretty_print()\n",
    "    \n",
    "input_message = HumanMessage(content=\"What are some products I purchased?\")\n",
    "for event in app.stream({\"messages\": [input_message]}, config, stream_mode=\"values\"):\n",
    "    event[\"messages\"][-1].pretty_print() \n",
    "    \n",
    "input_message = HumanMessage(content=\"Can you suggest products based on my previous purchase?\")\n",
    "for event in app.stream({\"messages\": [input_message]}, config, stream_mode=\"values\"):\n",
    "    event[\"messages\"][-1].pretty_print() "
   ]
  },
  {
   "cell_type": "markdown",
   "metadata": {},
   "source": [
    "#### Agentic RAG with Langgraph"
   ]
  },
  {
   "cell_type": "code",
   "execution_count": null,
   "metadata": {},
   "outputs": [],
   "source": [
    "# Agent state: A list of messages\n",
    "\n",
    "from typing import Annotated, Literal, Sequence, TypedDict\n",
    "from langchain_core.messages import BaseMessage\n",
    "from langgraph.graph.message import add_messages\n",
    "\n",
    "\n",
    "class AgentState(TypedDict):\n",
    "    # The add_messages function defines how an update should be processed\n",
    "    # Default is to replace. add_messages says \"append\"\n",
    "    messages: Annotated[Sequence[BaseMessage], add_messages]"
   ]
  },
  {
   "cell_type": "code",
   "execution_count": null,
   "metadata": {},
   "outputs": [],
   "source": [
    "from langchain import hub\n",
    "from langchain_core.messages import HumanMessage\n",
    "from langchain_core.output_parsers import StrOutputParser\n",
    "from langchain_core.prompts import PromptTemplate\n",
    "from langchain_core.pydantic_v1 import BaseModel, Field\n",
    "from langgraph.prebuilt import tools_condition\n",
    "from langchain_openai import AzureChatOpenAI\n",
    "\n",
    "### Edges\n",
    "\n",
    "def grade_documents(state) -> Literal[\"generate\", \"rewrite\"]:\n",
    "    \"\"\"\n",
    "    Determines whether the retrieved documents are relevant to the question.\n",
    "\n",
    "    Args:\n",
    "        state (messages): The current state\n",
    "\n",
    "    Returns:\n",
    "        str: A decision for whether the documents are relevant or not\n",
    "    \"\"\"\n",
    "\n",
    "    print(\"---CHECK RELEVANCE---\")\n",
    "\n",
    "    # Data model\n",
    "    class grade(BaseModel):\n",
    "        \"\"\"Binary score for relevance check.\"\"\"\n",
    "\n",
    "        binary_score: str = Field(description=\"Relevance score 'yes' or 'no'\")\n",
    "\n",
    "    # LLM\n",
    "    # model = AzureChatOpenAI(model=\"gpt-4o\", temperature=0, streaming=True)\n",
    "    model = ChatCohere(model=\"command-r-plus-08-2024\", temperature=0, streaming=True)\n",
    "\n",
    "    # LLM with tool and validation\n",
    "    llm_with_tool = model.with_structured_output(grade)\n",
    "\n",
    "    # Prompt\n",
    "    prompt = PromptTemplate(\n",
    "        template=\"\"\"You are a grader assessing relevance of a retrieved document to a user question. \\n \n",
    "        Here is the retrieved document: \\n\\n {context} \\n\\n\n",
    "        Here is the user question: {question} \\n\n",
    "        If the document contains keyword(s) or semantic meaning related to the user question, grade it as relevant. \\n\n",
    "        Give a binary score 'yes' or 'no' score to indicate whether the document is relevant to the question.\"\"\",\n",
    "        input_variables=[\"context\", \"question\"],\n",
    "    )\n",
    "\n",
    "    # Chain\n",
    "    chain = prompt | llm_with_tool\n",
    "\n",
    "    messages = state[\"messages\"]\n",
    "    last_message = messages[-1]\n",
    "\n",
    "    question = messages[0].content\n",
    "    docs = last_message.content\n",
    "\n",
    "    scored_result = chain.invoke({\"question\": question, \"context\": docs})\n",
    "\n",
    "    # score = scored_result.binary_score\n",
    "    score = scored_result[\"binary_score\"]\n",
    "\n",
    "    if score == \"yes\":\n",
    "        print(\"---DECISION: DOCS RELEVANT---\")\n",
    "        return \"generate\"\n",
    "\n",
    "    else:\n",
    "        print(\"---DECISION: DOCS NOT RELEVANT---\")\n",
    "        print(score)\n",
    "        return \"rewrite\"\n",
    "\n",
    "\n",
    "### Nodes\n",
    "\n",
    "\n",
    "def agent(state):\n",
    "    \"\"\"\n",
    "    Invokes the agent model to generate a response based on the current state. Given\n",
    "    the question, it will decide to retrieve using the retriever tool, or simply end.\n",
    "\n",
    "    Args:\n",
    "        state (messages): The current state\n",
    "\n",
    "    Returns:\n",
    "        dict: The updated state with the agent response appended to messages\n",
    "    \"\"\"\n",
    "    print(\"---CALL AGENT---\")\n",
    "    messages = state[\"messages\"]\n",
    "    model = AzureChatOpenAI(model=\"gpt-4o\", temperature=0, streaming=True)\n",
    "    # model = ChatCohere(model=\"command-r-plus-08-2024\", temperature=0, streaming=True)\n",
    "    model = model.bind_tools(tools)\n",
    "    response = model.invoke(messages)\n",
    "    # We return a list, because this will get added to the existing list\n",
    "    return {\"messages\": [response]}\n",
    "\n",
    "\n",
    "def rewrite(state):\n",
    "    \"\"\"\n",
    "    Transform the query to produce a better question.\n",
    "\n",
    "    Args:\n",
    "        state (messages): The current state\n",
    "\n",
    "    Returns:\n",
    "        dict: The updated state with re-phrased question\n",
    "    \"\"\"\n",
    "\n",
    "    print(\"---TRANSFORM QUERY---\")\n",
    "    messages = state[\"messages\"]\n",
    "    question = messages[0].content\n",
    "\n",
    "    msg = [\n",
    "        HumanMessage(\n",
    "            content=f\"\"\" \\n \n",
    "    Look at the input and try to reason about the underlying semantic intent / meaning. \\n \n",
    "    Here is the initial question:\n",
    "    \\n ------- \\n\n",
    "    {question} \n",
    "    \\n ------- \\n\n",
    "    Formulate an improved question: \"\"\",\n",
    "        )\n",
    "    ]\n",
    "\n",
    "    # Grader\n",
    "    # model = AzureChatOpenAI(model=\"gpt-4o\", temperature=0, streaming=True)\n",
    "    model = ChatCohere(model=\"command-r-plus-08-2024\", temperature=0, streaming=True)\n",
    "    response = model.invoke(msg)\n",
    "    return {\"messages\": [response]}\n",
    "\n",
    "\n",
    "def generate(state):\n",
    "    \"\"\"\n",
    "    Generate answer\n",
    "\n",
    "    Args:\n",
    "        state (messages): The current state\n",
    "\n",
    "    Returns:\n",
    "         dict: The updated state with re-phrased question\n",
    "    \"\"\"\n",
    "    print(\"---GENERATE---\")\n",
    "    messages = state[\"messages\"]\n",
    "    question = messages[0].content\n",
    "    last_message = messages[-1]\n",
    "\n",
    "    docs = last_message.content\n",
    "\n",
    "    # Prompt\n",
    "    prompt = hub.pull(\"rlm/rag-prompt\")\n",
    "\n",
    "    # LLM\n",
    "    # llm = AzureChatOpenAI(model=\"gpt-4o\", temperature=0, streaming=True)\n",
    "    model = ChatCohere(model=\"command-r-plus-08-2024\", temperature=0, streaming=True)\n",
    "\n",
    "    # Post-processing\n",
    "    def format_docs(docs):\n",
    "        return \"\\n\\n\".join(doc.page_content for doc in docs)\n",
    "\n",
    "    # Chain\n",
    "    rag_chain = prompt | llm | StrOutputParser()\n",
    "\n",
    "    # Run\n",
    "    response = rag_chain.invoke({\"context\": docs, \"question\": question})\n",
    "    return {\"messages\": [response]}\n",
    "\n",
    "\n",
    "print(\"*\" * 20 + \"Prompt[rlm/rag-prompt]\" + \"*\" * 20)\n",
    "prompt = hub.pull(\"rlm/rag-prompt\").pretty_print()  # Show what the prompt looks like"
   ]
  },
  {
   "cell_type": "code",
   "execution_count": null,
   "metadata": {},
   "outputs": [],
   "source": [
    "## Generate the graph\n",
    "\n",
    "from langgraph.graph import END, StateGraph, START\n",
    "from langgraph.prebuilt import ToolNode\n",
    "\n",
    "# Define a new graph\n",
    "workflow = StateGraph(AgentState)\n",
    "\n",
    "# Define the nodes we will cycle between\n",
    "workflow.add_node(\"agent\", agent)  # agent\n",
    "retrieve = ToolNode([retriever_tool])\n",
    "workflow.add_node(\"retrieve\", retrieve)  # retrieval\n",
    "workflow.add_node(\"rewrite\", rewrite)  # Re-writing the question\n",
    "workflow.add_node(\n",
    "    \"generate\", generate\n",
    ")  # Generating a response after we know the documents are relevant\n",
    "# Call agent node to decide to retrieve or not\n",
    "workflow.add_edge(START, \"agent\")\n",
    "\n",
    "# Decide whether to retrieve\n",
    "workflow.add_conditional_edges(\n",
    "    \"agent\",\n",
    "    # Assess agent decision\n",
    "    tools_condition,\n",
    "    {\n",
    "        # Translate the condition outputs to nodes in our graph\n",
    "        \"tools\": \"retrieve\",\n",
    "        END: END,\n",
    "    },\n",
    ")\n",
    "\n",
    "# Edges taken after the `action` node is called.\n",
    "workflow.add_conditional_edges(\n",
    "    \"retrieve\",\n",
    "    # Assess agent decision\n",
    "    grade_documents,\n",
    ")\n",
    "workflow.add_edge(\"generate\", END)\n",
    "workflow.add_edge(\"rewrite\", \"agent\")\n",
    "\n",
    "# Compile\n",
    "graph = workflow.compile()"
   ]
  },
  {
   "cell_type": "code",
   "execution_count": null,
   "metadata": {},
   "outputs": [],
   "source": [
    "from IPython.display import Image, display\n",
    "\n",
    "try:\n",
    "    display(Image(graph.get_graph(xray=True).draw_mermaid_png()))\n",
    "except Exception:\n",
    "    # This requires some extra dependencies and is optional\n",
    "    pass"
   ]
  },
  {
   "cell_type": "code",
   "execution_count": null,
   "metadata": {},
   "outputs": [],
   "source": [
    "import pprint\n",
    "\n",
    "inputs = {\n",
    "    \"messages\": [\n",
    "        (\"user\", \"What other products from the product catalogue might interest Jane Doe from their purchase history?\"),\n",
    "    ]\n",
    "}\n",
    "for output in graph.stream(inputs):\n",
    "    for key, value in output.items():\n",
    "        pprint.pprint(f\"Output from node '{key}':\")\n",
    "        pprint.pprint(\"---\")\n",
    "        pprint.pprint(value, indent=2, width=80, depth=None)\n",
    "    pprint.pprint(\"\\n---\\n\")"
   ]
  }
 ],
 "metadata": {
  "language_info": {
   "name": "python"
  }
 },
 "nbformat": 4,
 "nbformat_minor": 2
}
